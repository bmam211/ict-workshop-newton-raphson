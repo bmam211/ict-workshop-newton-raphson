{
  "cells": [
    {
      "cell_type": "code",
      "source": [
        "!pip install gymnasium"
      ],
      "metadata": {
        "colab": {
          "base_uri": "https://localhost:8080/"
        },
        "id": "O4oS58zfovap",
        "outputId": "71d942ad-aeb6-4e0c-feab-a4b29bd4df7e"
      },
      "execution_count": 3,
      "outputs": [
        {
          "output_type": "stream",
          "name": "stdout",
          "text": [
            "Collecting gymnasium\n",
            "  Downloading gymnasium-1.0.0-py3-none-any.whl.metadata (9.5 kB)\n",
            "Requirement already satisfied: numpy>=1.21.0 in /usr/local/lib/python3.11/dist-packages (from gymnasium) (1.26.4)\n",
            "Requirement already satisfied: cloudpickle>=1.2.0 in /usr/local/lib/python3.11/dist-packages (from gymnasium) (3.1.0)\n",
            "Requirement already satisfied: typing-extensions>=4.3.0 in /usr/local/lib/python3.11/dist-packages (from gymnasium) (4.12.2)\n",
            "Collecting farama-notifications>=0.0.1 (from gymnasium)\n",
            "  Downloading Farama_Notifications-0.0.4-py3-none-any.whl.metadata (558 bytes)\n",
            "Downloading gymnasium-1.0.0-py3-none-any.whl (958 kB)\n",
            "\u001b[2K   \u001b[90m━━━━━━━━━━━━━━━━━━━━━━━━━━━━━━━━━━━━━━━━\u001b[0m \u001b[32m958.1/958.1 kB\u001b[0m \u001b[31m10.9 MB/s\u001b[0m eta \u001b[36m0:00:00\u001b[0m\n",
            "\u001b[?25hDownloading Farama_Notifications-0.0.4-py3-none-any.whl (2.5 kB)\n",
            "Installing collected packages: farama-notifications, gymnasium\n",
            "Successfully installed farama-notifications-0.0.4 gymnasium-1.0.0\n"
          ]
        }
      ]
    },
    {
      "cell_type": "code",
      "source": [
        "!pip install pandapower"
      ],
      "metadata": {
        "colab": {
          "base_uri": "https://localhost:8080/"
        },
        "id": "5eJSlN0CoZnN",
        "outputId": "aa8e4320-f8c9-4b54-a7c6-0879befde738"
      },
      "execution_count": 1,
      "outputs": [
        {
          "output_type": "stream",
          "name": "stdout",
          "text": [
            "Collecting pandapower\n",
            "  Downloading pandapower-2.14.11.zip (13.2 MB)\n",
            "\u001b[2K     \u001b[90m━━━━━━━━━━━━━━━━━━━━━━━━━━━━━━━━━━━━━━━━\u001b[0m \u001b[32m13.2/13.2 MB\u001b[0m \u001b[31m31.1 MB/s\u001b[0m eta \u001b[36m0:00:00\u001b[0m\n",
            "\u001b[?25h  Preparing metadata (setup.py) ... \u001b[?25l\u001b[?25hdone\n",
            "Requirement already satisfied: pandas>=1.0 in /usr/local/lib/python3.11/dist-packages (from pandapower) (2.2.2)\n",
            "Requirement already satisfied: networkx>=2.5 in /usr/local/lib/python3.11/dist-packages (from pandapower) (3.4.2)\n",
            "Requirement already satisfied: scipy<1.14 in /usr/local/lib/python3.11/dist-packages (from pandapower) (1.13.1)\n",
            "Requirement already satisfied: numpy<2.0 in /usr/local/lib/python3.11/dist-packages (from pandapower) (1.26.4)\n",
            "Requirement already satisfied: packaging in /usr/local/lib/python3.11/dist-packages (from pandapower) (24.2)\n",
            "Requirement already satisfied: tqdm in /usr/local/lib/python3.11/dist-packages (from pandapower) (4.67.1)\n",
            "Collecting deepdiff (from pandapower)\n",
            "  Downloading deepdiff-8.1.1-py3-none-any.whl.metadata (9.5 kB)\n",
            "Requirement already satisfied: python-dateutil>=2.8.2 in /usr/local/lib/python3.11/dist-packages (from pandas>=1.0->pandapower) (2.8.2)\n",
            "Requirement already satisfied: pytz>=2020.1 in /usr/local/lib/python3.11/dist-packages (from pandas>=1.0->pandapower) (2024.2)\n",
            "Requirement already satisfied: tzdata>=2022.7 in /usr/local/lib/python3.11/dist-packages (from pandas>=1.0->pandapower) (2024.2)\n",
            "Collecting orderly-set<6,>=5.2.3 (from deepdiff->pandapower)\n",
            "  Downloading orderly_set-5.2.3-py3-none-any.whl.metadata (6.0 kB)\n",
            "Requirement already satisfied: six>=1.5 in /usr/local/lib/python3.11/dist-packages (from python-dateutil>=2.8.2->pandas>=1.0->pandapower) (1.17.0)\n",
            "Downloading deepdiff-8.1.1-py3-none-any.whl (84 kB)\n",
            "\u001b[2K   \u001b[90m━━━━━━━━━━━━━━━━━━━━━━━━━━━━━━━━━━━━━━━━\u001b[0m \u001b[32m84.7/84.7 kB\u001b[0m \u001b[31m3.7 MB/s\u001b[0m eta \u001b[36m0:00:00\u001b[0m\n",
            "\u001b[?25hDownloading orderly_set-5.2.3-py3-none-any.whl (12 kB)\n",
            "Building wheels for collected packages: pandapower\n",
            "  Building wheel for pandapower (setup.py) ... \u001b[?25l\u001b[?25hdone\n",
            "  Created wheel for pandapower: filename=pandapower-2.14.11-py3-none-any.whl size=13131028 sha256=432ef270996defc9c1123b09c780d1a79710228ddea38b5570f9a1b35aa264e6\n",
            "  Stored in directory: /root/.cache/pip/wheels/e6/7d/bf/a0b85b42ca2601f8b07aa66ce038d2c92a74eb9c678551aebd\n",
            "Successfully built pandapower\n",
            "Installing collected packages: orderly-set, deepdiff, pandapower\n",
            "Successfully installed deepdiff-8.1.1 orderly-set-5.2.3 pandapower-2.14.11\n"
          ]
        }
      ]
    },
    {
      "cell_type": "code",
      "source": [
        "!pip install stable-baselines3"
      ],
      "metadata": {
        "colab": {
          "base_uri": "https://localhost:8080/"
        },
        "id": "rNaM09sPpYhi",
        "outputId": "8f9ea646-7a17-467a-b68d-165746a5f161"
      },
      "execution_count": 9,
      "outputs": [
        {
          "output_type": "stream",
          "name": "stdout",
          "text": [
            "Collecting stable-baselines3\n",
            "  Downloading stable_baselines3-2.4.1-py3-none-any.whl.metadata (4.5 kB)\n",
            "Requirement already satisfied: gymnasium<1.1.0,>=0.29.1 in /usr/local/lib/python3.11/dist-packages (from stable-baselines3) (1.0.0)\n",
            "Requirement already satisfied: numpy<2.0,>=1.20 in /usr/local/lib/python3.11/dist-packages (from stable-baselines3) (1.26.4)\n",
            "Requirement already satisfied: torch>=1.13 in /usr/local/lib/python3.11/dist-packages (from stable-baselines3) (2.5.1+cu121)\n",
            "Requirement already satisfied: cloudpickle in /usr/local/lib/python3.11/dist-packages (from stable-baselines3) (3.1.0)\n",
            "Requirement already satisfied: pandas in /usr/local/lib/python3.11/dist-packages (from stable-baselines3) (2.2.2)\n",
            "Requirement already satisfied: matplotlib in /usr/local/lib/python3.11/dist-packages (from stable-baselines3) (3.10.0)\n",
            "Requirement already satisfied: typing-extensions>=4.3.0 in /usr/local/lib/python3.11/dist-packages (from gymnasium<1.1.0,>=0.29.1->stable-baselines3) (4.12.2)\n",
            "Requirement already satisfied: farama-notifications>=0.0.1 in /usr/local/lib/python3.11/dist-packages (from gymnasium<1.1.0,>=0.29.1->stable-baselines3) (0.0.4)\n",
            "Requirement already satisfied: filelock in /usr/local/lib/python3.11/dist-packages (from torch>=1.13->stable-baselines3) (3.16.1)\n",
            "Requirement already satisfied: networkx in /usr/local/lib/python3.11/dist-packages (from torch>=1.13->stable-baselines3) (3.4.2)\n",
            "Requirement already satisfied: jinja2 in /usr/local/lib/python3.11/dist-packages (from torch>=1.13->stable-baselines3) (3.1.5)\n",
            "Requirement already satisfied: fsspec in /usr/local/lib/python3.11/dist-packages (from torch>=1.13->stable-baselines3) (2024.10.0)\n",
            "Requirement already satisfied: nvidia-cuda-nvrtc-cu12==12.1.105 in /usr/local/lib/python3.11/dist-packages (from torch>=1.13->stable-baselines3) (12.1.105)\n",
            "Requirement already satisfied: nvidia-cuda-runtime-cu12==12.1.105 in /usr/local/lib/python3.11/dist-packages (from torch>=1.13->stable-baselines3) (12.1.105)\n",
            "Requirement already satisfied: nvidia-cuda-cupti-cu12==12.1.105 in /usr/local/lib/python3.11/dist-packages (from torch>=1.13->stable-baselines3) (12.1.105)\n",
            "Requirement already satisfied: nvidia-cudnn-cu12==9.1.0.70 in /usr/local/lib/python3.11/dist-packages (from torch>=1.13->stable-baselines3) (9.1.0.70)\n",
            "Requirement already satisfied: nvidia-cublas-cu12==12.1.3.1 in /usr/local/lib/python3.11/dist-packages (from torch>=1.13->stable-baselines3) (12.1.3.1)\n",
            "Requirement already satisfied: nvidia-cufft-cu12==11.0.2.54 in /usr/local/lib/python3.11/dist-packages (from torch>=1.13->stable-baselines3) (11.0.2.54)\n",
            "Requirement already satisfied: nvidia-curand-cu12==10.3.2.106 in /usr/local/lib/python3.11/dist-packages (from torch>=1.13->stable-baselines3) (10.3.2.106)\n",
            "Requirement already satisfied: nvidia-cusolver-cu12==11.4.5.107 in /usr/local/lib/python3.11/dist-packages (from torch>=1.13->stable-baselines3) (11.4.5.107)\n",
            "Requirement already satisfied: nvidia-cusparse-cu12==12.1.0.106 in /usr/local/lib/python3.11/dist-packages (from torch>=1.13->stable-baselines3) (12.1.0.106)\n",
            "Requirement already satisfied: nvidia-nccl-cu12==2.21.5 in /usr/local/lib/python3.11/dist-packages (from torch>=1.13->stable-baselines3) (2.21.5)\n",
            "Requirement already satisfied: nvidia-nvtx-cu12==12.1.105 in /usr/local/lib/python3.11/dist-packages (from torch>=1.13->stable-baselines3) (12.1.105)\n",
            "Requirement already satisfied: triton==3.1.0 in /usr/local/lib/python3.11/dist-packages (from torch>=1.13->stable-baselines3) (3.1.0)\n",
            "Requirement already satisfied: sympy==1.13.1 in /usr/local/lib/python3.11/dist-packages (from torch>=1.13->stable-baselines3) (1.13.1)\n",
            "Requirement already satisfied: nvidia-nvjitlink-cu12 in /usr/local/lib/python3.11/dist-packages (from nvidia-cusolver-cu12==11.4.5.107->torch>=1.13->stable-baselines3) (12.6.85)\n",
            "Requirement already satisfied: mpmath<1.4,>=1.1.0 in /usr/local/lib/python3.11/dist-packages (from sympy==1.13.1->torch>=1.13->stable-baselines3) (1.3.0)\n",
            "Requirement already satisfied: contourpy>=1.0.1 in /usr/local/lib/python3.11/dist-packages (from matplotlib->stable-baselines3) (1.3.1)\n",
            "Requirement already satisfied: cycler>=0.10 in /usr/local/lib/python3.11/dist-packages (from matplotlib->stable-baselines3) (0.12.1)\n",
            "Requirement already satisfied: fonttools>=4.22.0 in /usr/local/lib/python3.11/dist-packages (from matplotlib->stable-baselines3) (4.55.3)\n",
            "Requirement already satisfied: kiwisolver>=1.3.1 in /usr/local/lib/python3.11/dist-packages (from matplotlib->stable-baselines3) (1.4.8)\n",
            "Requirement already satisfied: packaging>=20.0 in /usr/local/lib/python3.11/dist-packages (from matplotlib->stable-baselines3) (24.2)\n",
            "Requirement already satisfied: pillow>=8 in /usr/local/lib/python3.11/dist-packages (from matplotlib->stable-baselines3) (11.1.0)\n",
            "Requirement already satisfied: pyparsing>=2.3.1 in /usr/local/lib/python3.11/dist-packages (from matplotlib->stable-baselines3) (3.2.1)\n",
            "Requirement already satisfied: python-dateutil>=2.7 in /usr/local/lib/python3.11/dist-packages (from matplotlib->stable-baselines3) (2.8.2)\n",
            "Requirement already satisfied: pytz>=2020.1 in /usr/local/lib/python3.11/dist-packages (from pandas->stable-baselines3) (2024.2)\n",
            "Requirement already satisfied: tzdata>=2022.7 in /usr/local/lib/python3.11/dist-packages (from pandas->stable-baselines3) (2024.2)\n",
            "Requirement already satisfied: six>=1.5 in /usr/local/lib/python3.11/dist-packages (from python-dateutil>=2.7->matplotlib->stable-baselines3) (1.17.0)\n",
            "Requirement already satisfied: MarkupSafe>=2.0 in /usr/local/lib/python3.11/dist-packages (from jinja2->torch>=1.13->stable-baselines3) (3.0.2)\n",
            "Downloading stable_baselines3-2.4.1-py3-none-any.whl (183 kB)\n",
            "\u001b[2K   \u001b[90m━━━━━━━━━━━━━━━━━━━━━━━━━━━━━━━━━━━━━━━━\u001b[0m \u001b[32m184.0/184.0 kB\u001b[0m \u001b[31m3.6 MB/s\u001b[0m eta \u001b[36m0:00:00\u001b[0m\n",
            "\u001b[?25hInstalling collected packages: stable-baselines3\n",
            "Successfully installed stable-baselines3-2.4.1\n"
          ]
        }
      ]
    },
    {
      "cell_type": "code",
      "execution_count": 20,
      "metadata": {
        "id": "slLKLEwMoYk0"
      },
      "outputs": [],
      "source": [
        "import pandapower as pp\n",
        "import torch\n",
        "import torch.nn as nn\n",
        "import torch.optim as optim\n",
        "import numpy as np\n",
        "import torch\n",
        "from torch.utils.data import Dataset\n",
        "from sklearn.preprocessing import StandardScaler\n",
        "import pickle\n",
        "import gymnasium as gym\n",
        "from gymnasium import spaces\n",
        "import numpy as np\n",
        "from stable_baselines3 import PPO\n",
        "from stable_baselines3.common.env_checker import check_env"
      ]
    },
    {
      "cell_type": "code",
      "execution_count": 21,
      "metadata": {
        "id": "s3NKISMaoYk1"
      },
      "outputs": [],
      "source": [
        "class SimpleTwoBus:\n",
        "\n",
        "    def __init__(self, V_ext, P, Q, G, B, V_init, theta_init):\n",
        "        '''This class creates a simple 2-bus network.'''\n",
        "\n",
        "        self.V_ext = V_ext\n",
        "        self.P = P\n",
        "        self.Q = Q\n",
        "        self.G = G\n",
        "        self.B = B\n",
        "        self.V_init = V_init\n",
        "        self.theta_init = theta_init\n",
        "        self.net = pp.create_empty_network()\n",
        "        self.create_two_bus_grid()\n",
        "\n",
        "\n",
        "    def create_two_bus_grid(self):\n",
        "\n",
        "        # Create two buses with initialized voltage and angle\n",
        "        bus1 = pp.create_bus(self.net, vn_kv=20.0, name=\"Bus 1\")\n",
        "        bus2 = pp.create_bus(self.net, vn_kv=0.4, name=\"Bus 2\")\n",
        "\n",
        "        # Initialize voltage and angle for buses\n",
        "        self.net.bus.loc[bus1, 'vm_pu'] = self.V_init[0]\n",
        "        self.net.bus.loc[bus1, 'va_degree'] = self.theta_init[0]\n",
        "        self.net.bus.loc[bus2, 'vm_pu'] = self.V_init[1]\n",
        "        self.net.bus.loc[bus2, 'va_degree'] = self.theta_init[1]\n",
        "\n",
        "        # create a line between the two buses\n",
        "        pp.create_line_from_parameters(\n",
        "            self.net,\n",
        "            from_bus=0,\n",
        "            to_bus=1,\n",
        "            length_km=1.0,\n",
        "            r_ohm_per_km=1/self.G,\n",
        "            x_ohm_per_km=1/self.B,\n",
        "            c_nf_per_km=0.0,\n",
        "            g_us_per_km=0.0,\n",
        "            max_i_ka=100.0,\n",
        "        )\n",
        "\n",
        "        # Create a transformer between the two buses\n",
        "        # pp.create_transformer(self.net, bus1, bus2, std_type=\"0.25 MVA 20/0.4 kV\")\n",
        "\n",
        "        # Create a load at bus 2 with specified P and Q\n",
        "        pp.create_load(self.net, bus2, p_mw=self.P, q_mvar=self.Q, name=\"Load\")\n",
        "\n",
        "        # Create an external grid connection at bus 1 with specified G and B\n",
        "        pp.create_ext_grid(self.net, bus1, vm_pu=self.V_ext, name=\"Grid Connection\")\n"
      ]
    },
    {
      "cell_type": "code",
      "execution_count": 25,
      "metadata": {
        "id": "lT0kh3ZRoYk2"
      },
      "outputs": [],
      "source": [
        "class GridEnv(gym.Env):\n",
        "    def __init__(self,V_ext = 1.02, G = 100, B = 0.1, k_limit = 5, termination_counter=100):\n",
        "\n",
        "        self.observation_space = spaces.Box(low = np.array([-1e10,-1e10]), high = np.array([1e10, 1e10]), dtype=np.float32)\n",
        "        self.action_space = spaces.Box(low=np.array([-0.05, -30]), high=np.array([0.05, 30]), dtype=np.float32)\n",
        "\n",
        "        self.k_limit = k_limit\n",
        "        self.termination_counter = termination_counter\n",
        "        self.counter = 0\n",
        "        self.done = False\n",
        "        self.terminated = False\n",
        "\n",
        "        self.G = G\n",
        "        self.B = B\n",
        "        self.V_ext = V_ext\n",
        "\n",
        "        #initialize network\n",
        "        self.reset()\n",
        "\n",
        "\n",
        "    # def reset(self, seed=0):\n",
        "\n",
        "    #     self.P = np.random.uniform(low= 0, high=0.2)\n",
        "    #     self.Q = np.random.uniform(low = 0, high = 0.1)\n",
        "    #     self.V_init = np.random.uniform(low = 0.9, high = 1.1, size=2)\n",
        "    #     self.theta_init = np.random.uniform(low = -20, high = 20, size=2)\n",
        "\n",
        "    #     Net = SimpleTwoBus(self.V_ext,self.P,self.Q,self.G,self.B,self.V_init,self.theta_init)\n",
        "    #     self.net = Net.net\n",
        "\n",
        "    #     initial_guesses = np.array([self.V_init, self.theta_init])\n",
        "\n",
        "    #     self.state = self.calculate_residual(initial_guesses)\n",
        "\n",
        "    def reset(self, seed=0):\n",
        "        self.P = np.random.uniform(low=0, high=0.2)\n",
        "        self.Q = np.random.uniform(low=0, high=0.1)\n",
        "        self.V_init = np.random.uniform(low=0.9, high=1.1, size=2)\n",
        "        self.theta_init = np.random.uniform(low=-20, high=20, size=2)\n",
        "\n",
        "        Net = SimpleTwoBus(self.V_ext, self.P, self.Q, self.G, self.B, self.V_init, self.theta_init)\n",
        "        self.net = Net.net\n",
        "\n",
        "        initial_guesses = np.array([self.V_init, self.theta_init])\n",
        "        self.state = self.calculate_residual(initial_guesses)\n",
        "\n",
        "        self.counter = 0\n",
        "        self.done = False\n",
        "        self.terminated = False\n",
        "\n",
        "        return self.state\n",
        "\n",
        "\n",
        "\n",
        "\n",
        "    def calculate_residual(self, action):\n",
        "\n",
        "        net = self.net.deepcopy()  # Keep the network unchanged\n",
        "\n",
        "        pp.runpp(net, max_iteration = 1, tolerance_mva = np.inf)\n",
        "        err = net._ppc['et']\n",
        "\n",
        "        residual = np.zeros(2)\n",
        "        residual[:] = err\n",
        "\n",
        "        #needs a function!\n",
        "\n",
        "        return residual\n",
        "\n",
        "\n",
        "    def perform_NR_step(self):\n",
        "\n",
        "        net = self.net.deepcopy()  # Keep the network unchanged\n",
        "\n",
        "        pp.runpp(net, max_iteration = 50, tolerance_mva = 1e-5)\n",
        "\n",
        "        iterations = net._ppc[\"iterations\"]\n",
        "\n",
        "        return iterations\n",
        "\n",
        "\n",
        "\n",
        "    def calculate_reward(self):\n",
        "\n",
        "        iterations = self.perform_NR_step()\n",
        "\n",
        "        reward = - iterations\n",
        "\n",
        "        return reward\n",
        "\n",
        "\n",
        "    def step(self, action):\n",
        "\n",
        "\n",
        "\n",
        "        # action = [delta_V, delta_theta]\n",
        "\n",
        "        # perform action\n",
        "        residual = self.calculate_residual(action)\n",
        "\n",
        "\n",
        "        # calcualate reward\n",
        "        reward = self.calculate_reward()\n",
        "\n",
        "\n",
        "        #update state:\n",
        "        self.state = residual\n",
        "\n",
        "        if reward == -self.k_limit:\n",
        "            self.done = True\n",
        "\n",
        "        self.counter += 1\n",
        "\n",
        "        if self.counter == self.termination_counter:\n",
        "            self.terminated = True\n",
        "\n",
        "        return self.state, reward, self.done, self.terminated\n",
        "\n",
        "\n",
        "\n",
        "\n",
        "    def render(self):\n",
        "        pass"
      ]
    },
    {
      "cell_type": "code",
      "execution_count": 26,
      "metadata": {
        "colab": {
          "base_uri": "https://localhost:8080/"
        },
        "id": "X9-iD9j0oYk3",
        "outputId": "845d7664-ae18-4f91-cd99-3f521d8b89bc"
      },
      "outputs": [
        {
          "output_type": "stream",
          "name": "stdout",
          "text": [
            "Initial State:\n",
            "\n",
            "Action Taken: [ 0.03 15.  ]\n",
            "Next State: [0.00519081 0.00519081]\n",
            "Reward: -2\n",
            "Done: False\n"
          ]
        },
        {
          "output_type": "stream",
          "name": "stderr",
          "text": [
            "/usr/local/lib/python3.11/dist-packages/gymnasium/spaces/box.py:235: UserWarning: \u001b[33mWARN: Box low's precision lowered by casting to float32, current low.dtype=float64\u001b[0m\n",
            "  gym.logger.warn(\n",
            "/usr/local/lib/python3.11/dist-packages/gymnasium/spaces/box.py:305: UserWarning: \u001b[33mWARN: Box high's precision lowered by casting to float32, current high.dtype=float64\u001b[0m\n",
            "  gym.logger.warn(\n"
          ]
        }
      ],
      "source": [
        "# Test run\n",
        "\n",
        "\n",
        "env = GridEnv()\n",
        "\n",
        "\n",
        "state = env.reset()\n",
        "print(\"Initial State:\")\n",
        "# env.render()\n",
        "\n",
        "# Define a sample action within the specified ranges\n",
        "action = np.array([0.03, 15.0], dtype=np.float32)\n",
        "\n",
        "# Take a step in the environment using the sample action\n",
        "next_state, reward, done, info = env.step(action)\n",
        "\n",
        "# Print the results\n",
        "print(\"\\nAction Taken:\", action)\n",
        "print(\"Next State:\", next_state)\n",
        "# env.render()\n",
        "print(\"Reward:\", reward)\n",
        "print(\"Done:\", done)"
      ]
    },
    {
      "cell_type": "code",
      "source": [
        "import torch\n",
        "import torch.nn as nn\n",
        "import torch.optim as optim\n",
        "from torch.distributions import Normal\n",
        "\n",
        "class ActorCritic(nn.Module):\n",
        "    def __init__(self, state_dim, action_dim):\n",
        "        super(ActorCritic, self).__init__()\n",
        "\n",
        "        self.actor = nn.Sequential(\n",
        "            nn.Linear(state_dim, 128),\n",
        "            nn.ReLU(),\n",
        "            nn.Linear(128, 128),\n",
        "            nn.ReLU(),\n",
        "            nn.Linear(128, action_dim),\n",
        "        )\n",
        "\n",
        "        self.critic = nn.Sequential(\n",
        "            nn.Linear(state_dim, 128),\n",
        "            nn.ReLU(),\n",
        "            nn.Linear(128, 128),\n",
        "            nn.ReLU(),\n",
        "            nn.Linear(128, 1),\n",
        "        )\n",
        "\n",
        "    def forward(self, state):\n",
        "        action_mean = self.actor(state)\n",
        "        value = self.critic(state)\n",
        "        return action_mean, value"
      ],
      "metadata": {
        "colab": {
          "base_uri": "https://localhost:8080/"
        },
        "id": "KbZSH-KvrDSB",
        "outputId": "dd5af39f-9eb7-4c40-cd44-4c24d478af53"
      },
      "execution_count": 28,
      "outputs": [
        {
          "output_type": "stream",
          "name": "stderr",
          "text": [
            "/usr/local/lib/python3.11/dist-packages/gymnasium/spaces/box.py:235: UserWarning: \u001b[33mWARN: Box low's precision lowered by casting to float32, current low.dtype=float64\u001b[0m\n",
            "  gym.logger.warn(\n",
            "/usr/local/lib/python3.11/dist-packages/gymnasium/spaces/box.py:305: UserWarning: \u001b[33mWARN: Box high's precision lowered by casting to float32, current high.dtype=float64\u001b[0m\n",
            "  gym.logger.warn(\n"
          ]
        }
      ]
    },
    {
      "cell_type": "code",
      "source": [
        "state_dim = 2\n",
        "action_dim = 2\n",
        "lr = 3e-4\n",
        "num_episodes = 10\n",
        "max_steps = 2\n",
        "gamma = 0.99\n",
        "entropy_coefficient = 0.01"
      ],
      "metadata": {
        "id": "EEzwBghnt21x"
      },
      "execution_count": null,
      "outputs": []
    },
    {
      "cell_type": "code",
      "source": [
        "env = GridEnv()\n",
        "model = ActorCritic(state_dim, action_dim)\n",
        "optimizer = optim.Adam(model.parameters(), lr=lr)"
      ],
      "metadata": {
        "id": "NNZTRUCJt7cZ"
      },
      "execution_count": null,
      "outputs": []
    },
    {
      "cell_type": "code",
      "source": [
        "for episode in range(num_episodes):\n",
        "    state = env.reset()\n",
        "    #\n",
        "\n",
        "    for step in range(max_steps):\n",
        "        action = #\n",
        "        next_state, reward, done, _ = env.step(action)\n",
        "        values.append(value)\n",
        "        rewards.append(reward)\n",
        "\n",
        "        state = next_state\n",
        "\n",
        "        if done:\n",
        "            break"
      ],
      "metadata": {
        "id": "vWl2o4HcsTDd"
      },
      "execution_count": null,
      "outputs": []
    },
    {
      "cell_type": "code",
      "source": [],
      "metadata": {
        "id": "CRtBjrwltm6D"
      },
      "execution_count": null,
      "outputs": []
    }
  ],
  "metadata": {
    "kernelspec": {
      "display_name": ".venv",
      "language": "python",
      "name": "python3"
    },
    "language_info": {
      "codemirror_mode": {
        "name": "ipython",
        "version": 3
      },
      "file_extension": ".py",
      "mimetype": "text/x-python",
      "name": "python",
      "nbconvert_exporter": "python",
      "pygments_lexer": "ipython3",
      "version": "3.9.6"
    },
    "colab": {
      "provenance": []
    }
  },
  "nbformat": 4,
  "nbformat_minor": 0
}